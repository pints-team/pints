{
 "cells": [
  {
   "cell_type": "markdown",
   "metadata": {},
   "source": [
    "# Ellipsoidal nested sampling\n",
    "\n",
    "This example demonstrates how to use ellipsoidal nested rejection sampling [1] to sample from the posterior distribution for a logistic model fitted to model-simulated data.\n",
    "\n",
    "[1] \"A nested sampling algorithm for cosmological model selection\", Pia Mukherjee, David Parkinson and Andrew R. Liddle, [arXiv:astro-ph/0508461v2](https://arxiv.org/abs/astro-ph/0508461)."
   ]
  },
  {
   "cell_type": "markdown",
   "metadata": {},
   "source": [
    "First create fake data."
   ]
  },
  {
   "cell_type": "code",
   "execution_count": 1,
   "metadata": {},
   "outputs": [
    {
     "data": {
      "text/plain": [
       "<Figure size 640x480 with 1 Axes>"
      ]
     },
     "metadata": {},
     "output_type": "display_data"
    }
   ],
   "source": [
    "import pints\n",
    "import pints.toy as toy\n",
    "import numpy as np\n",
    "import matplotlib.pyplot as plt\n",
    "\n",
    "# Load a forward model\n",
    "model = toy.LogisticModel()\n",
    "\n",
    "# Create some toy data\n",
    "r = 0.015\n",
    "k = 500\n",
    "real_parameters = [r, k]\n",
    "times = np.linspace(0, 1000, 100)\n",
    "signal_values = model.simulate(real_parameters, times)\n",
    "\n",
    "# Add independent Gaussian noise\n",
    "sigma = 10\n",
    "observed_values = signal_values + pints.noise.independent(sigma, signal_values.shape)\n",
    "\n",
    "# Plot\n",
    "plt.plot(times,signal_values,label = 'signal')\n",
    "plt.plot(times,observed_values,label = 'observed')\n",
    "plt.xlabel('Time')\n",
    "plt.ylabel('Values')\n",
    "plt.legend()\n",
    "plt.show()"
   ]
  },
  {
   "cell_type": "markdown",
   "metadata": {},
   "source": [
    "Create the nested sampler that will be used to sample from the posterior."
   ]
  },
  {
   "cell_type": "code",
   "execution_count": 2,
   "metadata": {},
   "outputs": [],
   "source": [
    "# Create an object with links to the model and time series\n",
    "problem = pints.SingleOutputProblem(model, times, observed_values)\n",
    "\n",
    "# Create a log-likelihood function (adds an extra parameter!)\n",
    "log_likelihood = pints.GaussianLogLikelihood(problem)\n",
    "\n",
    "# Create a uniform prior over both the parameters and the new noise variable\n",
    "log_prior = pints.UniformLogPrior(\n",
    "    [0.01, 400, sigma * 0.5],\n",
    "    [0.02, 600, sigma * 1.5])\n",
    "\n",
    "# Create a nested ellipsoidal rejectection sampler\n",
    "controller = pints.NestedController(log_likelihood, log_prior,\n",
    "                                    method=pints.NestedEllipsoidSampler)\n",
    "\n",
    "# Set number of iterations\n",
    "controller.set_iterations(8000)\n",
    "\n",
    "# Set the number of posterior samples to generate\n",
    "controller.set_n_posterior_samples(1600)\n",
    "\n",
    "# Do proposals in parallel\n",
    "controller.set_parallel(True)\n",
    "\n",
    "# Use dynamic enlargement factor\n",
    "controller._sampler.set_dynamic_enlargement_factor(1)"
   ]
  },
  {
   "cell_type": "markdown",
   "metadata": {},
   "source": [
    "Run the sampler!"
   ]
  },
  {
   "cell_type": "code",
   "execution_count": 3,
   "metadata": {},
   "outputs": [
    {
     "name": "stdout",
     "output_type": "stream",
     "text": [
      "Running Nested ellipsoidal sampler\n",
      "Number of active points: 400\n",
      "Total number of iterations: 8000\n",
      "Total number of posterior samples: 1600\n",
      "Iter. Eval. Time m:s Delta_log(z) Acceptance rate\n",
      "0     1       0:00.1 -inf          1             \n",
      "0     2       0:00.1 -inf          1             \n",
      "0     21      0:00.2 -inf          1             \n",
      "0     41      0:00.2 -inf          1             \n",
      "0     61      0:00.2 -inf          1             \n",
      "0     81      0:00.3 -inf          1             \n",
      "0     101     0:00.3 -inf          1             \n",
      "0     121     0:00.3 -inf          1             \n",
      "0     141     0:00.4 -inf          1             \n",
      "0     161     0:00.4 -inf          1             \n",
      "0     181     0:00.4 -inf          1             \n",
      "0     201     0:00.5 -inf          1             \n",
      "0     221     0:00.5 -inf          1             \n",
      "0     241     0:00.5 -inf          1             \n",
      "0     261     0:00.6 -inf          1             \n",
      "0     281     0:00.6 -inf          1             \n",
      "0     301     0:00.6 -inf          1             \n",
      "0     321     0:00.7 -inf          1             \n",
      "0     341     0:00.7 -inf          1             \n",
      "0     361     0:00.7 -inf          1             \n",
      "0     381     0:00.7 -inf          1             \n",
      "1     424     0:00.8 -inf          0.0416666667  \n",
      "20    424     0:00.8 -13434.66549  0.833333333   \n",
      "40    448     0:00.8 -8861.140828  0.833333333   \n",
      "60    472     0:00.8 -6913.171136  0.833333333   \n",
      "80    496     0:00.8 -6053.470989  0.833333333   \n",
      "100   520     0:00.9 -5156.618713  0.833333333   \n",
      "120   544     0:00.9 -4477.458205  0.833333333   \n",
      "140   568     0:00.9 -4005.391916  0.833333333   \n",
      "160   616     0:00.9 -3682.101231  0.740740741   \n",
      "180   640     0:00.9 -3412.922173  0.75          \n",
      "200   664     0:00.9 -3164.417272  0.757575758   \n",
      "220   688     0:01.0 -2889.57968   0.763888889   \n",
      "240   736     0:01.0 -2687.109538  0.714285714   \n",
      "260   784     0:01.0 -2506.295066  0.677083333   \n",
      "280   808     0:01.0 -2308.640403  0.68627451    \n",
      "300   856     0:01.0 -2151.805113  0.657894737   \n",
      "320   904     0:01.1 -2054.568628  0.634920635   \n",
      "340   952     0:01.1 -1910.28457   0.615942029   \n",
      "360   1000    0:01.1 -1790.249782  0.6           \n",
      "380   1048    0:01.1 -1655.972114  0.586419753   \n",
      "400   1096    0:01.2 -1579.588045  0.574712644   \n",
      "420   1144    0:01.2 -1487.002162  0.564516129   \n",
      "440   1192    0:01.2 -1396.117727  0.555555556   \n",
      "460   1264    0:01.2 -1323.063569  0.532407407   \n",
      "480   1312    0:01.2 -1244.24295   0.526315789   \n",
      "500   1360    0:01.3 -1176.102238  0.520833333   \n",
      "520   1432    0:01.3 -1127.557858  0.503875969   \n",
      "540   1528    0:01.3 -1088.26017   0.478723404   \n",
      "560   1600    0:01.4 -1030.810759  0.466666667   \n",
      "580   1648    0:01.4 -994.4720233  0.46474359    \n",
      "600   1720    0:01.4 -937.1938217  0.454545455   \n",
      "620   1792    0:01.4 -863.9050406  0.445402299   \n",
      "640   1864    0:01.5 -824.0860699  0.43715847    \n",
      "660   1960    0:01.5 -770.4351172  0.423076923   \n",
      "680   2080    0:01.5 -730.7009517  0.404761905   \n",
      "700   2200    0:01.6 -688.108329   0.388888889   \n",
      "720   2320    0:01.6 -641.4807952  0.375         \n",
      "740   2416    0:01.6 -610.530809   0.367063492   \n",
      "760   2488    0:01.6 -572.9569819  0.363984674   \n",
      "780   2608    0:01.7 -549.1869159  0.35326087    \n",
      "800   2728    0:01.7 -528.6686362  0.343642612   \n",
      "820   2872    0:01.8 -507.2293632  0.331715210356\n",
      "840   2992    0:01.8 -489.6810498  0.324074074   \n",
      "860   3112    0:01.8 -466.3287834  0.317109145   \n",
      "880   3328    0:01.9 -452.6666938  0.300546448   \n",
      "900   3472    0:01.9 -427.3810211  0.29296875    \n",
      "920   3520    0:02.0 -407.0062231  0.294871795   \n",
      "940   3544    0:02.0 -389.1941403  0.298982188   \n",
      "960   3592    0:02.0 -376.7998079  0.30075188    \n",
      "980   3616    0:02.0 -360.0019752  0.304726368   \n",
      "1000  3664    0:02.0 -341.3606944  0.306372549   \n",
      "1020  3736    0:02.1 -326.2778876  0.305755396   \n",
      "1040  3784    0:02.1 -307.7553931  0.307328605   \n",
      "1060  3856    0:02.1 -293.3275633  0.306712962963\n",
      "1080  3904    0:02.1 -278.0406093  0.308219178   \n",
      "1100  3952    0:02.2 -264.3701402  0.309684685   \n",
      "1120  4024    0:02.2 -256.4806468  0.309050773   \n",
      "1140  4072    0:02.2 -242.9463871  0.310457516   \n",
      "1160  4144    0:02.2 -230.2174382  0.30982906    \n",
      "1180  4216    0:02.3 -220.6275728  0.309224319   \n",
      "1200  4312    0:02.3 -207.6171758  0.306748466   \n",
      "1220  4336    0:02.3 -198.1439084  0.30995935    \n",
      "1240  4384    0:02.3 -191.503757   0.31124498    \n",
      "1260  4408    0:02.4 -183.8754727  0.314371257485\n",
      "1280  4456    0:02.4 -177.742134   0.315581854   \n",
      "1300  4504    0:02.4 -170.4390018  0.316764133   \n",
      "1320  4528    0:02.4 -163.3570118  0.319767442   \n",
      "1340  4576    0:02.4 -155.639199   0.320881226   \n",
      "1360  4624    0:02.5 -145.1499718  0.321969697   \n",
      "1380  4696    0:02.5 -137.4870134  0.32122905    \n",
      "1400  4744    0:02.5 -131.6017243  0.32228361    \n",
      "1420  4816    0:02.5 -125.3261907  0.321557971   \n",
      "1440  4888    0:02.6 -119.7110013  0.320855615   \n",
      "1460  4960    0:02.6 -115.2092252  0.320175439   \n",
      "1480  5032    0:02.6 -110.9154534  0.319516408   \n",
      "1500  5080    0:02.7 -105.6986869  0.320512821   \n",
      "1520  5152    0:02.7 -101.332958   0.31986532    \n",
      "1540  5248    0:02.7 -97.82893565  0.317656766   \n",
      "1560  5296    0:02.7 -95.09018555  0.318627451   \n",
      "1580  5368    0:02.8 -91.99665102  0.318035427   \n",
      "1600  5488    0:02.8 -93.72011643  0.314465408805\n",
      "1620  5560    0:02.8 -91.07797947  0.313953488   \n",
      "1640  5656    0:02.9 -88.27297533  0.312024353   \n",
      "1660  5728    0:02.9 -85.93987349  0.311561562   \n",
      "1680  5848    0:02.9 -83.84737836  0.308370044   \n",
      "1700  5944    0:03.0 -81.69615499  0.306637807   \n",
      "1720  6064    0:03.0 -79.81191768  0.303672316   \n",
      "1740  6160    0:03.0 -77.71756493  0.302083333   \n",
      "1760  6304    0:03.1 -75.61584372  0.298102981   \n",
      "1780  6424    0:03.1 -73.7080709   0.295484728   \n",
      "1800  6544    0:03.1 -71.87367902  0.29296875    \n",
      "1820  6712    0:03.2 -70.3496129   0.28833967    \n",
      "1840  6856    0:03.2 -68.7822487   0.285006196   \n",
      "1860  7024    0:03.3 -66.97790459  0.280797101   \n",
      "1880  7192    0:03.3 -65.20403636  0.276796231   \n",
      "1900  7360    0:03.4 -63.10687265  0.272988506   \n",
      "1920  7384    0:03.4 -61.51390959  0.274914089   \n",
      "1940  7408    0:03.4 -59.9430512   0.276826484   \n",
      "1960  7456    0:03.4 -58.76505104  0.277777778   \n",
      "1980  7480    0:03.5 -57.57966941  0.279661017   \n",
      "2000  7504    0:03.5 -56.48220499  0.281531532   \n",
      "2020  7552    0:03.5 -55.23597     0.282438479   \n",
      "2040  7624    0:03.5 -53.88833634  0.282392027   \n",
      "2060  7648    0:03.5 -54.66614817  0.284216336   \n",
      "2080  7696    0:03.6 -53.45769117  0.285087719   \n",
      "2100  7744    0:03.6 -51.98519733  0.285947712   \n",
      "2120  7768    0:03.6 -51.17825974  0.287730727   \n",
      "2140  7792    0:03.6 -50.00652823  0.289502165   \n",
      "2160  7816    0:03.6 -48.85928924  0.291262136   \n",
      "2180  7840    0:03.7 -47.60709827  0.293010753   \n",
      "2200  7888    0:03.7 -46.36975578  0.293803419   \n",
      "2220  7936    0:03.7 -45.36400819  0.294585987   \n",
      "2240  7960    0:03.7 -44.40379443  0.296296296   \n",
      "2260  8008    0:03.8 -43.37884559  0.297055731   \n",
      "2280  8032    0:03.8 -42.37863     0.298742138   \n",
      "2300  8080    0:03.8 -41.28009682  0.299479167   \n",
      "2320  8128    0:03.8 -40.17353108  0.300207039   \n",
      "2340  8176    0:03.8 -39.14941559  0.300925926   \n",
      "2360  8224    0:03.9 -38.19518844  0.30163599182 \n",
      "2380  8296    0:03.9 -37.25561755  0.30141844    \n",
      "2400  8344    0:03.9 -36.40634374  0.302114804   \n",
      "2420  8392    0:03.9 -35.60994144  0.302802803   \n",
      "2440  8464    0:04.0 -34.87512373  0.302579365   \n",
      "2460  8536    0:04.0 -34.16634369  0.302359882   \n",
      "2480  8608    0:04.0 -33.3955272   0.30214425    \n",
      "2500  8704    0:04.1 -32.61374645  0.30105973    \n",
      "2520  8800    0:04.1 -31.7605235   0.3           \n",
      "2540  8896    0:04.1 -30.95834595  0.298964218   \n",
      "2560  8968    0:04.1 -30.1417354   0.298786181   \n",
      "2580  9064    0:04.2 -29.42320848  0.297783933518\n",
      "2600  9160    0:04.2 -28.75689739  0.296803652968\n",
      "2620  9280    0:04.2 -28.07536486  0.295045045045\n",
      "2640  9352    0:04.3 -27.26312631  0.294906166   \n",
      "2660  9472    0:04.3 -26.55106143  0.293209877   \n",
      "2680  9592    0:04.4 -25.87066475  0.291557876   \n",
      "2700  9688    0:04.4 -25.19214443  0.290697674   \n",
      "2720  9784    0:04.4 -24.55372365  0.289855072   \n",
      "2740  9952    0:04.5 -23.96427412  0.286850921273\n",
      "2760  10072   0:04.5 -23.42173159  0.285359801   \n",
      "2780  10216   0:04.5 -22.84380605  0.283211084   \n"
     ]
    },
    {
     "name": "stdout",
     "output_type": "stream",
     "text": [
      "2800  10408   0:04.6 -22.09995184  0.279776179   \n",
      "2820  10648   0:04.7 -21.41645945  0.275175644   \n",
      "2840  10888   0:04.7 -20.78000114  0.27078566    \n",
      "2860  11032   0:04.8 -20.1637183   0.268999248   \n",
      "2880  11248   0:04.8 -19.5526662   0.265486726   \n",
      "2900  11488   0:04.9 -18.97763979  0.261544011544\n",
      "2920  11512   0:04.9 -18.44690078  0.262778978   \n",
      "2940  11536   0:04.9 -17.96067126  0.264008621   \n",
      "2960  11560   0:04.9 -17.47690226  0.265232975   \n",
      "2980  11584   0:05.0 -17.02573917  0.266452074392\n",
      "3000  11632   0:05.0 -16.56928077  0.267094017094\n",
      "3020  11656   0:05.0 -16.05887861  0.26830135    \n",
      "3040  11704   0:05.0 -15.59176215  0.268931352   \n",
      "3060  11728   0:05.0 -15.15365307  0.270127119   \n",
      "3080  11776   0:05.1 -14.74566629  0.270745429   \n",
      "3100  11824   0:05.1 -14.35002456  0.271358543   \n",
      "3120  11872   0:05.1 -13.94509984  0.271966527   \n",
      "3140  11920   0:05.1 -13.53108802  0.272569444   \n",
      "3160  11968   0:05.2 -13.10397468  0.273167358   \n",
      "3180  12040   0:05.5 -12.68366924  0.273195876   \n",
      "3200  12088   0:05.5 -12.27565596  0.273785079   \n",
      "3220  12160   0:05.6 -11.90813289  0.273809524   \n",
      "3240  12232   0:05.6 -11.57460592  0.273833671   \n",
      "3260  12304   0:05.6 -11.26359059  0.273857527   \n",
      "3280  12352   0:05.7 -10.95230794  0.274431058   \n",
      "3300  12448   0:05.7 -10.63986426  0.273904382   \n",
      "3320  12520   0:05.7 -10.3084927   0.273927393   \n",
      "3340  12640   0:05.8 -9.982245527  0.272875817   \n",
      "3360  12760   0:05.8 -9.665141923  0.27184466    \n",
      "3380  12856   0:05.8 -9.363992994  0.27135517    \n",
      "3400  13000   0:05.9 -9.077547011  0.26984127    \n",
      "3420  13024   0:05.9 -8.800253657  0.270912548   \n",
      "3440  13048   0:05.9 -8.519722373  0.27197976    \n",
      "3460  13072   0:05.9 -8.247647886  0.273042929   \n",
      "3480  13120   0:06.0 -7.984743749  0.273584906   \n",
      "3500  13144   0:06.0 -7.733175907  0.274639046   \n",
      "3520  13168   0:06.0 -7.483880226  0.275689223   \n",
      "3540  13192   0:06.0 -7.254079353  0.27673546    \n",
      "3560  13216   0:06.0 -7.041901551  0.277777778   \n",
      "3580  13288   0:06.1 -6.836967371  0.277777778   \n",
      "3600  13312   0:06.1 -6.629032166  0.278810409   \n",
      "3620  13360   0:06.1 -6.426446653  0.279320988   \n",
      "3640  13408   0:06.1 -6.225515828  0.279827798278\n",
      "3660  13456   0:06.2 -6.031947439  0.280330882   \n",
      "3680  13504   0:06.2 -5.843808341  0.280830281   \n",
      "3700  13552   0:06.2 -5.787320962  0.281326034   \n",
      "3720  13600   0:06.2 -5.61894694   0.281818182   \n",
      "3740  13648   0:06.3 -5.456057773  0.282306763285\n",
      "3760  13696   0:06.3 -5.296345372  0.282791817   \n",
      "3780  13744   0:06.3 -5.137836688  0.283273381295\n",
      "3800  13792   0:06.3 -4.981586905  0.283751493   \n",
      "3820  13864   0:06.4 -4.826679516  0.283719548   \n",
      "3840  13912   0:06.4 -4.676516155  0.284191829   \n",
      "3860  13984   0:06.4 -4.52872951   0.284157833   \n",
      "3880  14032   0:06.4 -4.378514312  0.284624413   \n",
      "3900  14128   0:06.5 -4.229306577  0.284090909   \n",
      "3920  14200   0:06.5 -4.08070624   0.284057971   \n",
      "3940  14296   0:06.5 -3.93405467   0.283534830167\n",
      "3960  14392   0:06.6 -3.792094172  0.283018868   \n",
      "3980  14464   0:06.6 -3.653519387  0.282992036405\n",
      "4000  14560   0:06.6 -3.518837665  0.282485876   \n",
      "4020  14704   0:06.7 -3.38983364   0.281040268   \n",
      "4040  14824   0:06.7 -3.264060202  0.280088741   \n",
      "4060  14896   0:06.7 -3.141193572  0.280077263   \n",
      "4080  15040   0:06.8 -3.018934061  0.278688525   \n",
      "4100  15160   0:06.8 -2.899261397  0.277777778   \n",
      "4120  15304   0:06.9 -2.783967384  0.276435856146\n",
      "4140  15472   0:06.9 -2.672989351  0.274681529   \n",
      "4160  15664   0:07.0 -2.564737245  0.272536687631\n",
      "4180  15808   0:07.0 -2.459201609  0.271287642783\n",
      "4200  15976   0:07.1 -2.357441004  0.269645609   \n",
      "4220  16144   0:07.1 -2.258938054  0.268038618   \n",
      "4240  16312   0:07.2 -2.16333826   0.266465561   \n",
      "4260  16408   0:07.2 -2.071096406  0.266116942   \n",
      "4280  16624   0:07.3 -1.982445048  0.263806706   \n",
      "4300  16840   0:07.3 -1.896223859  0.261557178   \n",
      "4320  16864   0:07.3 -1.81305814   0.262390671   \n",
      "4340  16888   0:07.4 -1.732327649  0.263221737   \n",
      "4360  16912   0:07.4 -1.654376338  0.264050388   \n",
      "4380  16936   0:07.4 -1.606478796  0.264876633   \n",
      "4400  16960   0:07.4 -1.534327053  0.265700483   \n",
      "4420  16984   0:07.4 -1.464710995  0.266521949   \n",
      "4440  17032   0:07.5 -1.397420719  0.266955267   \n",
      "4460  17080   0:07.5 -1.332990582  0.267386091   \n",
      "4480  17104   0:07.5 -1.270724455  0.268199234   \n",
      "4500  17152   0:07.5 -1.210489818  0.268624642   \n",
      "4520  17200   0:07.6 -1.152744424  0.269047619   \n",
      "4540  17224   0:07.6 -1.097437572  0.269852592   \n",
      "4560  17296   0:07.6 -1.044385639  0.269886364   \n",
      "4580  17320   0:07.6 -0.993696     0.270685579   \n",
      "4600  17368   0:07.6 -0.945292     0.271098538   \n",
      "4620  17440   0:07.7 -0.899011     0.271126761   \n",
      "4640  17512   0:07.7 -0.854709     0.271154745208\n",
      "4660  17584   0:07.7 -0.812413     0.271182495   \n",
      "4680  17656   0:07.8 -0.77206      0.271210014   \n",
      "4700  17728   0:07.8 -0.733482     0.271237304   \n",
      "4720  17824   0:07.8 -0.696646     0.270890725   \n",
      "4740  17944   0:07.9 -0.661566     0.270177839   \n",
      "4760  18016   0:07.9 -0.628182     0.270208901   \n",
      "4780  18088   0:07.9 -0.596343     0.270239711   \n",
      "4800  18184   0:08.0 -0.566022     0.269905533   \n",
      "4820  18208   0:08.0 -0.537168     0.27066487    \n",
      "4840  18232   0:08.0 -0.509791     0.271422162   \n",
      "Convergence obtained with Delta_z = -0.4992372601682291\n",
      "Done!\n"
     ]
    }
   ],
   "source": [
    "samples = controller.run()\n",
    "print('Done!')"
   ]
  },
  {
   "cell_type": "markdown",
   "metadata": {},
   "source": [
    "## Plot posterior samples versus true parameter values (dashed lines)"
   ]
  },
  {
   "cell_type": "code",
   "execution_count": 4,
   "metadata": {},
   "outputs": [
    {
     "data": {
      "image/png": "[encoded data removed]",
      "text/plain": [
       "<Figure size 432x432 with 3 Axes>"
      ]
     },
     "metadata": {
      "needs_background": "light"
     },
     "output_type": "display_data"
    }
   ],
   "source": [
    "# Plot output\n",
    "import pints.plot\n",
    "\n",
    "pints.plot.histogram([samples], ref_parameters=[r, k, sigma])\n",
    "\n",
    "plt.show()"
   ]
  },
  {
   "cell_type": "markdown",
   "metadata": {},
   "source": [
    "## Plot posterior predictive simulations versus the observed data"
   ]
  },
  {
   "cell_type": "code",
   "execution_count": 5,
   "metadata": {},
   "outputs": [
    {
     "data": {
      "image/png": "[encoded data removed]",
      "text/plain": [
       "<Figure size 576x216 with 1 Axes>"
      ]
     },
     "metadata": {
      "needs_background": "light"
     },
     "output_type": "display_data"
    }
   ],
   "source": [
    "pints.plot.series(samples[:100], problem)\n",
    "plt.show()"
   ]
  },
  {
   "cell_type": "markdown",
   "metadata": {},
   "source": [
    "## Marginal likelihood estimate"
   ]
  },
  {
   "cell_type": "code",
   "execution_count": 6,
   "metadata": {},
   "outputs": [
    {
     "name": "stdout",
     "output_type": "stream",
     "text": [
      "marginal log-likelihood = -382.18988862037673 ± 0.0783612067991932\n"
     ]
    }
   ],
   "source": [
    "print('marginal log-likelihood = ' + str(controller.marginal_log_likelihood())\n",
    "      + ' ± ' + str(controller.marginal_log_likelihood_standard_deviation()))"
   ]
  },
  {
   "cell_type": "markdown",
   "metadata": {},
   "source": [
    "## Effective sample size"
   ]
  },
  {
   "cell_type": "code",
   "execution_count": 7,
   "metadata": {},
   "outputs": [
    {
     "name": "stdout",
     "output_type": "stream",
     "text": [
      "effective sample size = 1578.7847256966925\n"
     ]
    }
   ],
   "source": [
    "print('effective sample size = ' + str(controller.effective_sample_size()))"
   ]
  }
 ],
 "metadata": {
  "kernelspec": {
   "display_name": "Python 3",
   "language": "python",
   "name": "python3"
  },
  "language_info": {
   "codemirror_mode": {
    "name": "ipython",
    "version": 3
   },
   "file_extension": ".py",
   "mimetype": "text/x-python",
   "name": "python",
   "nbconvert_exporter": "python",
   "pygments_lexer": "ipython3",
   "version": "3.9.2"
  }
 },
 "nbformat": 4,
 "nbformat_minor": 2
}
